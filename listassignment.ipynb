{
 "cells": [
  {
   "cell_type": "markdown",
   "id": "32690830",
   "metadata": {},
   "source": [
    "Create an empty list:"
   ]
  },
  {
   "cell_type": "code",
   "execution_count": 1,
   "id": "7239fb28",
   "metadata": {},
   "outputs": [],
   "source": [
    "empty_list = []\n"
   ]
  },
  {
   "cell_type": "markdown",
   "id": "4f7ef187",
   "metadata": {},
   "source": [
    "Create a list and add an element to the end of this list:"
   ]
  },
  {
   "cell_type": "code",
   "execution_count": 5,
   "id": "0341211e",
   "metadata": {},
   "outputs": [
    {
     "data": {
      "text/plain": [
       "[1, 2, 3, 4]"
      ]
     },
     "execution_count": 5,
     "metadata": {},
     "output_type": "execute_result"
    }
   ],
   "source": [
    "my_list = [1, 2, 3]  \n",
    "my_list.append(4)\n",
    "my_list"
   ]
  },
  {
   "cell_type": "markdown",
   "id": "2a0beae0",
   "metadata": {},
   "source": [
    "For the above created list print the last element"
   ]
  },
  {
   "cell_type": "code",
   "execution_count": 6,
   "id": "3d50d8ed",
   "metadata": {},
   "outputs": [
    {
     "name": "stdout",
     "output_type": "stream",
     "text": [
      "4\n"
     ]
    }
   ],
   "source": [
    "print(my_list[-1])\n"
   ]
  },
  {
   "cell_type": "markdown",
   "id": "c718adfd",
   "metadata": {},
   "source": [
    "Reverse the above created list:"
   ]
  },
  {
   "cell_type": "code",
   "execution_count": 8,
   "id": "50aa1703",
   "metadata": {},
   "outputs": [
    {
     "name": "stdout",
     "output_type": "stream",
     "text": [
      "None\n"
     ]
    }
   ],
   "source": [
    "print(my_list.reverse())\n"
   ]
  },
  {
   "cell_type": "markdown",
   "id": "417a5517",
   "metadata": {},
   "source": [
    "Sort the above created list:"
   ]
  },
  {
   "cell_type": "code",
   "execution_count": 9,
   "id": "09afe726",
   "metadata": {},
   "outputs": [],
   "source": [
    "my_list.sort()\n"
   ]
  },
  {
   "cell_type": "markdown",
   "id": "0bd8882b",
   "metadata": {},
   "source": [
    "Create a list of your top three favorite movies, then print the second movie title:\n",
    "\n",
    "python"
   ]
  },
  {
   "cell_type": "code",
   "execution_count": 10,
   "id": "626722d7",
   "metadata": {},
   "outputs": [
    {
     "name": "stdout",
     "output_type": "stream",
     "text": [
      "The Godfather\n"
     ]
    }
   ],
   "source": [
    "favorite_movies = [\"The Shawshank Redemption\", \"The Godfather\", \"Pulp Fiction\"]\n",
    "print(favorite_movies[1])  # Indexing starts from 0\n"
   ]
  },
  {
   "cell_type": "markdown",
   "id": "ba13543d",
   "metadata": {},
   "source": [
    "Create a list of your favorite animals, then add a new animal to the list and print the updated list:"
   ]
  },
  {
   "cell_type": "code",
   "execution_count": 11,
   "id": "3b27445d",
   "metadata": {},
   "outputs": [
    {
     "name": "stdout",
     "output_type": "stream",
     "text": [
      "['Dog', 'Cat', 'Elephant', 'Lion']\n"
     ]
    }
   ],
   "source": [
    "favorite_animals = [\"Dog\", \"Cat\", \"Elephant\"]\n",
    "favorite_animals.append(\"Lion\")\n",
    "print(favorite_animals)\n"
   ]
  },
  {
   "cell_type": "markdown",
   "id": "40920425",
   "metadata": {},
   "source": [
    "Create a list of your favorite cities, then use the index() method to find the position of a specific city on the list and print it:"
   ]
  },
  {
   "cell_type": "code",
   "execution_count": 12,
   "id": "b3a090be",
   "metadata": {},
   "outputs": [
    {
     "name": "stdout",
     "output_type": "stream",
     "text": [
      "The position of Paris in the list is: 2\n"
     ]
    }
   ],
   "source": [
    "favorite_cities = [\"New York\", \"London\", \"Paris\", \"Tokyo\"]\n",
    "city_index = favorite_cities.index(\"Paris\")\n",
    "print(\"The position of Paris in the list is:\", city_index)\n"
   ]
  },
  {
   "cell_type": "code",
   "execution_count": null,
   "id": "8fa53abd",
   "metadata": {},
   "outputs": [],
   "source": []
  }
 ],
 "metadata": {
  "kernelspec": {
   "display_name": "Python 3 (ipykernel)",
   "language": "python",
   "name": "python3"
  },
  "language_info": {
   "codemirror_mode": {
    "name": "ipython",
    "version": 3
   },
   "file_extension": ".py",
   "mimetype": "text/x-python",
   "name": "python",
   "nbconvert_exporter": "python",
   "pygments_lexer": "ipython3",
   "version": "3.10.9"
  }
 },
 "nbformat": 4,
 "nbformat_minor": 5
}
